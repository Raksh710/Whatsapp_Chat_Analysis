{
 "cells": [
  {
   "cell_type": "code",
   "execution_count": 1,
   "metadata": {},
   "outputs": [],
   "source": [
    "import numpy as np\n",
    "import pandas as pd\n",
    "import matplotlib.pyplot as plt\n",
    "import seaborn as sns\n",
    "%matplotlib inline"
   ]
  },
  {
   "cell_type": "code",
   "execution_count": 2,
   "metadata": {},
   "outputs": [],
   "source": [
    "df = pd.read_csv(\"WhatsApp Chat with Buddies.csv\" , encoding='cp1252')"
   ]
  },
  {
   "cell_type": "code",
   "execution_count": 3,
   "metadata": {},
   "outputs": [
    {
     "name": "stdout",
     "output_type": "stream",
     "text": [
      "<class 'pandas.core.frame.DataFrame'>\n",
      "RangeIndex: 6103 entries, 0 to 6102\n",
      "Data columns (total 36 columns):\n",
      " #   Column                                           Non-Null Count  Dtype  \n",
      "---  ------                                           --------------  -----  \n",
      " 0   Date                                             5905 non-null   object \n",
      " 1   Time                                             5722 non-null   object \n",
      " 2   Contact                                          5683 non-null   object \n",
      " 3   Unnamed: 3                                       5618 non-null   object \n",
      " 4   Unnamed: 4                                       449 non-null    object \n",
      " 5   Unnamed: 5                                       11 non-null     object \n",
      " 6    can read or listen to them. Tap to learn more.  56 non-null     object \n",
      " 7   Unnamed: 7                                       42 non-null     object \n",
      " 8   Unnamed: 8                                       31 non-null     object \n",
      " 9   Unnamed: 9                                       25 non-null     object \n",
      " 10  Unnamed: 10                                      20 non-null     object \n",
      " 11  Unnamed: 11                                      16 non-null     object \n",
      " 12  Unnamed: 12                                      16 non-null     object \n",
      " 13  Unnamed: 13                                      15 non-null     object \n",
      " 14  Unnamed: 14                                      13 non-null     object \n",
      " 15  Unnamed: 15                                      10 non-null     object \n",
      " 16  Unnamed: 16                                      9 non-null      object \n",
      " 17  Unnamed: 17                                      8 non-null      object \n",
      " 18  Unnamed: 18                                      7 non-null      object \n",
      " 19  Unnamed: 19                                      7 non-null      object \n",
      " 20  Unnamed: 20                                      5 non-null      object \n",
      " 21  Unnamed: 21                                      5 non-null      object \n",
      " 22  Unnamed: 22                                      5 non-null      object \n",
      " 23  Unnamed: 23                                      5 non-null      object \n",
      " 24  Unnamed: 24                                      4 non-null      object \n",
      " 25  Unnamed: 25                                      4 non-null      object \n",
      " 26  Unnamed: 26                                      4 non-null      object \n",
      " 27  Unnamed: 27                                      2 non-null      object \n",
      " 28  Unnamed: 28                                      2 non-null      object \n",
      " 29  Unnamed: 29                                      2 non-null      object \n",
      " 30  Unnamed: 30                                      2 non-null      object \n",
      " 31  Unnamed: 31                                      2 non-null      object \n",
      " 32  Unnamed: 32                                      2 non-null      object \n",
      " 33  Unnamed: 33                                      2 non-null      object \n",
      " 34  Unnamed: 34                                      2 non-null      object \n",
      " 35  Unnamed: 35                                      1 non-null      float64\n",
      "dtypes: float64(1), object(35)\n",
      "memory usage: 1.7+ MB\n"
     ]
    }
   ],
   "source": [
    "df.info()"
   ]
  },
  {
   "cell_type": "code",
   "execution_count": 4,
   "metadata": {},
   "outputs": [
    {
     "data": {
      "text/plain": [
       "Date                                                198\n",
       "Time                                                381\n",
       "Contact                                             420\n",
       "Unnamed: 3                                          485\n",
       "Unnamed: 4                                         5654\n",
       "Unnamed: 5                                         6092\n",
       " can read or listen to them. Tap to learn more.    6047\n",
       "Unnamed: 7                                         6061\n",
       "Unnamed: 8                                         6072\n",
       "Unnamed: 9                                         6078\n",
       "Unnamed: 10                                        6083\n",
       "Unnamed: 11                                        6087\n",
       "Unnamed: 12                                        6087\n",
       "Unnamed: 13                                        6088\n",
       "Unnamed: 14                                        6090\n",
       "Unnamed: 15                                        6093\n",
       "Unnamed: 16                                        6094\n",
       "Unnamed: 17                                        6095\n",
       "Unnamed: 18                                        6096\n",
       "Unnamed: 19                                        6096\n",
       "Unnamed: 20                                        6098\n",
       "Unnamed: 21                                        6098\n",
       "Unnamed: 22                                        6098\n",
       "Unnamed: 23                                        6098\n",
       "Unnamed: 24                                        6099\n",
       "Unnamed: 25                                        6099\n",
       "Unnamed: 26                                        6099\n",
       "Unnamed: 27                                        6101\n",
       "Unnamed: 28                                        6101\n",
       "Unnamed: 29                                        6101\n",
       "Unnamed: 30                                        6101\n",
       "Unnamed: 31                                        6101\n",
       "Unnamed: 32                                        6101\n",
       "Unnamed: 33                                        6101\n",
       "Unnamed: 34                                        6101\n",
       "Unnamed: 35                                        6102\n",
       "dtype: int64"
      ]
     },
     "execution_count": 4,
     "metadata": {},
     "output_type": "execute_result"
    }
   ],
   "source": [
    "df.isna().sum()"
   ]
  },
  {
   "cell_type": "code",
   "execution_count": 5,
   "metadata": {},
   "outputs": [
    {
     "data": {
      "text/plain": [
       "Index(['Date', 'Time', 'Contact', 'Unnamed: 3', 'Unnamed: 4', 'Unnamed: 5',\n",
       "       ' can read or listen to them. Tap to learn more.', 'Unnamed: 7',\n",
       "       'Unnamed: 8', 'Unnamed: 9', 'Unnamed: 10', 'Unnamed: 11', 'Unnamed: 12',\n",
       "       'Unnamed: 13', 'Unnamed: 14', 'Unnamed: 15', 'Unnamed: 16',\n",
       "       'Unnamed: 17', 'Unnamed: 18', 'Unnamed: 19', 'Unnamed: 20',\n",
       "       'Unnamed: 21', 'Unnamed: 22', 'Unnamed: 23', 'Unnamed: 24',\n",
       "       'Unnamed: 25', 'Unnamed: 26', 'Unnamed: 27', 'Unnamed: 28',\n",
       "       'Unnamed: 29', 'Unnamed: 30', 'Unnamed: 31', 'Unnamed: 32',\n",
       "       'Unnamed: 33', 'Unnamed: 34', 'Unnamed: 35'],\n",
       "      dtype='object')"
      ]
     },
     "execution_count": 5,
     "metadata": {},
     "output_type": "execute_result"
    }
   ],
   "source": [
    "df.columns"
   ]
  },
  {
   "cell_type": "code",
   "execution_count": 6,
   "metadata": {},
   "outputs": [],
   "source": [
    "df.drop(['Unnamed: 7','Unnamed: 8', 'Unnamed: 9', 'Unnamed: 10', 'Unnamed: 11', 'Unnamed: 12','Unnamed: 13', 'Unnamed: 14', 'Unnamed: 15', 'Unnamed: 16','Unnamed: 17', 'Unnamed: 18', 'Unnamed: 19', 'Unnamed: 20',\n",
    "       'Unnamed: 21', 'Unnamed: 22', 'Unnamed: 23', 'Unnamed: 24',\n",
    "       'Unnamed: 25', 'Unnamed: 26', 'Unnamed: 27', 'Unnamed: 28',\n",
    "       'Unnamed: 29', 'Unnamed: 30', 'Unnamed: 31', 'Unnamed: 32',\n",
    "       'Unnamed: 33', 'Unnamed: 34', 'Unnamed: 35'] , axis=1 , inplace = True)"
   ]
  },
  {
   "cell_type": "code",
   "execution_count": 7,
   "metadata": {},
   "outputs": [
    {
     "data": {
      "text/html": [
       "<div>\n",
       "<style scoped>\n",
       "    .dataframe tbody tr th:only-of-type {\n",
       "        vertical-align: middle;\n",
       "    }\n",
       "\n",
       "    .dataframe tbody tr th {\n",
       "        vertical-align: top;\n",
       "    }\n",
       "\n",
       "    .dataframe thead th {\n",
       "        text-align: right;\n",
       "    }\n",
       "</style>\n",
       "<table border=\"1\" class=\"dataframe\">\n",
       "  <thead>\n",
       "    <tr style=\"text-align: right;\">\n",
       "      <th></th>\n",
       "      <th>Date</th>\n",
       "      <th>Time</th>\n",
       "      <th>Contact</th>\n",
       "      <th>Unnamed: 3</th>\n",
       "      <th>Unnamed: 4</th>\n",
       "      <th>Unnamed: 5</th>\n",
       "      <th>can read or listen to them. Tap to learn more.</th>\n",
       "    </tr>\n",
       "  </thead>\n",
       "  <tbody>\n",
       "    <tr>\n",
       "      <th>0</th>\n",
       "      <td>28-09-2019</td>\n",
       "      <td>21:55</td>\n",
       "      <td>Mona Hcl 2 created group \"Party??\"</td>\n",
       "      <td>NaN</td>\n",
       "      <td>NaN</td>\n",
       "      <td>NaN</td>\n",
       "      <td>NaN</td>\n",
       "    </tr>\n",
       "    <tr>\n",
       "      <th>1</th>\n",
       "      <td>11-10-2019</td>\n",
       "      <td>21:16</td>\n",
       "      <td>Mona Hcl 2 added you</td>\n",
       "      <td>NaN</td>\n",
       "      <td>NaN</td>\n",
       "      <td>NaN</td>\n",
       "      <td>NaN</td>\n",
       "    </tr>\n",
       "    <tr>\n",
       "      <th>2</th>\n",
       "      <td>11-10-2019</td>\n",
       "      <td>21:17</td>\n",
       "      <td>Shivangi Kaul HCL</td>\n",
       "      <td>????</td>\n",
       "      <td>NaN</td>\n",
       "      <td>NaN</td>\n",
       "      <td>NaN</td>\n",
       "    </tr>\n",
       "    <tr>\n",
       "      <th>3</th>\n",
       "      <td>11-10-2019</td>\n",
       "      <td>21:17</td>\n",
       "      <td>Shivangi Kaul HCL</td>\n",
       "      <td>??</td>\n",
       "      <td>NaN</td>\n",
       "      <td>NaN</td>\n",
       "      <td>NaN</td>\n",
       "    </tr>\n",
       "    <tr>\n",
       "      <th>4</th>\n",
       "      <td>11-10-2019</td>\n",
       "      <td>21:17</td>\n",
       "      <td>Mona Hcl 2</td>\n",
       "      <td>??</td>\n",
       "      <td>NaN</td>\n",
       "      <td>NaN</td>\n",
       "      <td>NaN</td>\n",
       "    </tr>\n",
       "  </tbody>\n",
       "</table>\n",
       "</div>"
      ],
      "text/plain": [
       "         Date     Time                              Contact Unnamed: 3  \\\n",
       "0  28-09-2019   21:55    Mona Hcl 2 created group \"Party??\"        NaN   \n",
       "1  11-10-2019   21:16                  Mona Hcl 2 added you        NaN   \n",
       "2  11-10-2019   21:17                     Shivangi Kaul HCL       ????   \n",
       "3  11-10-2019   21:17                     Shivangi Kaul HCL         ??   \n",
       "4  11-10-2019   21:17                            Mona Hcl 2         ??   \n",
       "\n",
       "  Unnamed: 4 Unnamed: 5  can read or listen to them. Tap to learn more.  \n",
       "0        NaN        NaN                                             NaN  \n",
       "1        NaN        NaN                                             NaN  \n",
       "2        NaN        NaN                                             NaN  \n",
       "3        NaN        NaN                                             NaN  \n",
       "4        NaN        NaN                                             NaN  "
      ]
     },
     "execution_count": 7,
     "metadata": {},
     "output_type": "execute_result"
    }
   ],
   "source": [
    "df.head()"
   ]
  },
  {
   "cell_type": "code",
   "execution_count": 8,
   "metadata": {},
   "outputs": [
    {
     "data": {
      "text/plain": [
       "Date                                                198\n",
       "Time                                                381\n",
       "Contact                                             420\n",
       "Unnamed: 3                                          485\n",
       "Unnamed: 4                                         5654\n",
       "Unnamed: 5                                         6092\n",
       " can read or listen to them. Tap to learn more.    6047\n",
       "dtype: int64"
      ]
     },
     "execution_count": 8,
     "metadata": {},
     "output_type": "execute_result"
    }
   ],
   "source": [
    "df.isna().sum()"
   ]
  },
  {
   "cell_type": "code",
   "execution_count": 9,
   "metadata": {},
   "outputs": [
    {
     "data": {
      "text/plain": [
       "6103"
      ]
     },
     "execution_count": 9,
     "metadata": {},
     "output_type": "execute_result"
    }
   ],
   "source": [
    "len(df)"
   ]
  },
  {
   "cell_type": "code",
   "execution_count": 10,
   "metadata": {},
   "outputs": [
    {
     "data": {
      "text/plain": [
       "Index(['Date', 'Time', 'Contact', 'Unnamed: 3', 'Unnamed: 4', 'Unnamed: 5',\n",
       "       ' can read or listen to them. Tap to learn more.'],\n",
       "      dtype='object')"
      ]
     },
     "execution_count": 10,
     "metadata": {},
     "output_type": "execute_result"
    }
   ],
   "source": [
    "df.columns"
   ]
  },
  {
   "cell_type": "code",
   "execution_count": 11,
   "metadata": {},
   "outputs": [],
   "source": [
    "df.drop([' can read or listen to them. Tap to learn more.' , 'Unnamed: 5'] , axis=1 , inplace=True)"
   ]
  },
  {
   "cell_type": "code",
   "execution_count": 12,
   "metadata": {},
   "outputs": [
    {
     "data": {
      "text/plain": [
       "Date           198\n",
       "Time           381\n",
       "Contact        420\n",
       "Unnamed: 3     485\n",
       "Unnamed: 4    5654\n",
       "dtype: int64"
      ]
     },
     "execution_count": 12,
     "metadata": {},
     "output_type": "execute_result"
    }
   ],
   "source": [
    "df.isna().sum()"
   ]
  },
  {
   "cell_type": "code",
   "execution_count": 13,
   "metadata": {},
   "outputs": [
    {
     "data": {
      "text/html": [
       "<div>\n",
       "<style scoped>\n",
       "    .dataframe tbody tr th:only-of-type {\n",
       "        vertical-align: middle;\n",
       "    }\n",
       "\n",
       "    .dataframe tbody tr th {\n",
       "        vertical-align: top;\n",
       "    }\n",
       "\n",
       "    .dataframe thead th {\n",
       "        text-align: right;\n",
       "    }\n",
       "</style>\n",
       "<table border=\"1\" class=\"dataframe\">\n",
       "  <thead>\n",
       "    <tr style=\"text-align: right;\">\n",
       "      <th></th>\n",
       "      <th>Date</th>\n",
       "      <th>Time</th>\n",
       "      <th>Contact</th>\n",
       "      <th>Unnamed: 3</th>\n",
       "      <th>Unnamed: 4</th>\n",
       "    </tr>\n",
       "  </thead>\n",
       "  <tbody>\n",
       "    <tr>\n",
       "      <th>0</th>\n",
       "      <td>28-09-2019</td>\n",
       "      <td>21:55</td>\n",
       "      <td>Mona Hcl 2 created group \"Party??\"</td>\n",
       "      <td>NaN</td>\n",
       "      <td>NaN</td>\n",
       "    </tr>\n",
       "    <tr>\n",
       "      <th>1</th>\n",
       "      <td>11-10-2019</td>\n",
       "      <td>21:16</td>\n",
       "      <td>Mona Hcl 2 added you</td>\n",
       "      <td>NaN</td>\n",
       "      <td>NaN</td>\n",
       "    </tr>\n",
       "    <tr>\n",
       "      <th>2</th>\n",
       "      <td>11-10-2019</td>\n",
       "      <td>21:17</td>\n",
       "      <td>Shivangi Kaul HCL</td>\n",
       "      <td>????</td>\n",
       "      <td>NaN</td>\n",
       "    </tr>\n",
       "    <tr>\n",
       "      <th>3</th>\n",
       "      <td>11-10-2019</td>\n",
       "      <td>21:17</td>\n",
       "      <td>Shivangi Kaul HCL</td>\n",
       "      <td>??</td>\n",
       "      <td>NaN</td>\n",
       "    </tr>\n",
       "    <tr>\n",
       "      <th>4</th>\n",
       "      <td>11-10-2019</td>\n",
       "      <td>21:17</td>\n",
       "      <td>Mona Hcl 2</td>\n",
       "      <td>??</td>\n",
       "      <td>NaN</td>\n",
       "    </tr>\n",
       "  </tbody>\n",
       "</table>\n",
       "</div>"
      ],
      "text/plain": [
       "         Date     Time                              Contact Unnamed: 3  \\\n",
       "0  28-09-2019   21:55    Mona Hcl 2 created group \"Party??\"        NaN   \n",
       "1  11-10-2019   21:16                  Mona Hcl 2 added you        NaN   \n",
       "2  11-10-2019   21:17                     Shivangi Kaul HCL       ????   \n",
       "3  11-10-2019   21:17                     Shivangi Kaul HCL         ??   \n",
       "4  11-10-2019   21:17                            Mona Hcl 2         ??   \n",
       "\n",
       "  Unnamed: 4  \n",
       "0        NaN  \n",
       "1        NaN  \n",
       "2        NaN  \n",
       "3        NaN  \n",
       "4        NaN  "
      ]
     },
     "execution_count": 13,
     "metadata": {},
     "output_type": "execute_result"
    }
   ],
   "source": [
    "df.head()"
   ]
  },
  {
   "cell_type": "code",
   "execution_count": 14,
   "metadata": {},
   "outputs": [],
   "source": [
    "df.drop('Unnamed: 4',axis=1,inplace=True)"
   ]
  },
  {
   "cell_type": "code",
   "execution_count": 15,
   "metadata": {},
   "outputs": [
    {
     "data": {
      "text/plain": [
       "Date          198\n",
       "Time          381\n",
       "Contact       420\n",
       "Unnamed: 3    485\n",
       "dtype: int64"
      ]
     },
     "execution_count": 15,
     "metadata": {},
     "output_type": "execute_result"
    }
   ],
   "source": [
    "df.isna().sum()"
   ]
  },
  {
   "cell_type": "code",
   "execution_count": 16,
   "metadata": {},
   "outputs": [
    {
     "data": {
      "text/plain": [
       "-4770"
      ]
     },
     "execution_count": 16,
     "metadata": {},
     "output_type": "execute_result"
    }
   ],
   "source": [
    "123+325+400+485-len(df)"
   ]
  },
  {
   "cell_type": "code",
   "execution_count": 17,
   "metadata": {},
   "outputs": [],
   "source": [
    "df.dropna(inplace=True)"
   ]
  },
  {
   "cell_type": "code",
   "execution_count": 18,
   "metadata": {},
   "outputs": [
    {
     "data": {
      "text/html": [
       "<div>\n",
       "<style scoped>\n",
       "    .dataframe tbody tr th:only-of-type {\n",
       "        vertical-align: middle;\n",
       "    }\n",
       "\n",
       "    .dataframe tbody tr th {\n",
       "        vertical-align: top;\n",
       "    }\n",
       "\n",
       "    .dataframe thead th {\n",
       "        text-align: right;\n",
       "    }\n",
       "</style>\n",
       "<table border=\"1\" class=\"dataframe\">\n",
       "  <thead>\n",
       "    <tr style=\"text-align: right;\">\n",
       "      <th></th>\n",
       "      <th>Date</th>\n",
       "      <th>Time</th>\n",
       "      <th>Contact</th>\n",
       "      <th>Unnamed: 3</th>\n",
       "    </tr>\n",
       "  </thead>\n",
       "  <tbody>\n",
       "    <tr>\n",
       "      <th>2</th>\n",
       "      <td>11-10-2019</td>\n",
       "      <td>21:17</td>\n",
       "      <td>Shivangi Kaul HCL</td>\n",
       "      <td>????</td>\n",
       "    </tr>\n",
       "    <tr>\n",
       "      <th>3</th>\n",
       "      <td>11-10-2019</td>\n",
       "      <td>21:17</td>\n",
       "      <td>Shivangi Kaul HCL</td>\n",
       "      <td>??</td>\n",
       "    </tr>\n",
       "    <tr>\n",
       "      <th>4</th>\n",
       "      <td>11-10-2019</td>\n",
       "      <td>21:17</td>\n",
       "      <td>Mona Hcl 2</td>\n",
       "      <td>??</td>\n",
       "    </tr>\n",
       "    <tr>\n",
       "      <th>6</th>\n",
       "      <td>11-10-2019</td>\n",
       "      <td>21:17</td>\n",
       "      <td>Midhun Sir HCL</td>\n",
       "      <td>??</td>\n",
       "    </tr>\n",
       "    <tr>\n",
       "      <th>7</th>\n",
       "      <td>11-10-2019</td>\n",
       "      <td>21:17</td>\n",
       "      <td>Precila Hcl</td>\n",
       "      <td>??</td>\n",
       "    </tr>\n",
       "    <tr>\n",
       "      <th>...</th>\n",
       "      <td>...</td>\n",
       "      <td>...</td>\n",
       "      <td>...</td>\n",
       "      <td>...</td>\n",
       "    </tr>\n",
       "    <tr>\n",
       "      <th>6098</th>\n",
       "      <td>03-05-2021</td>\n",
       "      <td>21:05</td>\n",
       "      <td>Samiksha Shruti Ma'am</td>\n",
       "      <td>Best wishes aman for your future ahead</td>\n",
       "    </tr>\n",
       "    <tr>\n",
       "      <th>6099</th>\n",
       "      <td>03-05-2021</td>\n",
       "      <td>21:05</td>\n",
       "      <td>Samiksha Shruti Ma'am</td>\n",
       "      <td>And thanks for your kind words ??</td>\n",
       "    </tr>\n",
       "    <tr>\n",
       "      <th>6100</th>\n",
       "      <td>03-05-2021</td>\n",
       "      <td>21:06</td>\n",
       "      <td>Midhun Sir HCL</td>\n",
       "      <td>??</td>\n",
       "    </tr>\n",
       "    <tr>\n",
       "      <th>6101</th>\n",
       "      <td>03-05-2021</td>\n",
       "      <td>22:05</td>\n",
       "      <td>Aman 2 Hcl</td>\n",
       "      <td>Thankyou ma'am</td>\n",
       "    </tr>\n",
       "    <tr>\n",
       "      <th>6102</th>\n",
       "      <td>03-05-2021</td>\n",
       "      <td>22:42</td>\n",
       "      <td>Midhun Sir HCL</td>\n",
       "      <td>Yo</td>\n",
       "    </tr>\n",
       "  </tbody>\n",
       "</table>\n",
       "<p>5609 rows × 4 columns</p>\n",
       "</div>"
      ],
      "text/plain": [
       "            Date     Time                 Contact  \\\n",
       "2     11-10-2019   21:17        Shivangi Kaul HCL   \n",
       "3     11-10-2019   21:17        Shivangi Kaul HCL   \n",
       "4     11-10-2019   21:17               Mona Hcl 2   \n",
       "6     11-10-2019   21:17           Midhun Sir HCL   \n",
       "7     11-10-2019   21:17              Precila Hcl   \n",
       "...          ...      ...                     ...   \n",
       "6098  03-05-2021   21:05    Samiksha Shruti Ma'am   \n",
       "6099  03-05-2021   21:05    Samiksha Shruti Ma'am   \n",
       "6100  03-05-2021   21:06           Midhun Sir HCL   \n",
       "6101  03-05-2021   22:05               Aman 2 Hcl   \n",
       "6102  03-05-2021   22:42           Midhun Sir HCL   \n",
       "\n",
       "                                   Unnamed: 3  \n",
       "2                                        ????  \n",
       "3                                          ??  \n",
       "4                                          ??  \n",
       "6                                          ??  \n",
       "7                                          ??  \n",
       "...                                       ...  \n",
       "6098   Best wishes aman for your future ahead  \n",
       "6099        And thanks for your kind words ??  \n",
       "6100                                       ??  \n",
       "6101                           Thankyou ma'am  \n",
       "6102                                       Yo  \n",
       "\n",
       "[5609 rows x 4 columns]"
      ]
     },
     "execution_count": 18,
     "metadata": {},
     "output_type": "execute_result"
    }
   ],
   "source": [
    "df"
   ]
  },
  {
   "cell_type": "code",
   "execution_count": 19,
   "metadata": {},
   "outputs": [
    {
     "data": {
      "text/plain": [
       "Date          0\n",
       "Time          0\n",
       "Contact       0\n",
       "Unnamed: 3    0\n",
       "dtype: int64"
      ]
     },
     "execution_count": 19,
     "metadata": {},
     "output_type": "execute_result"
    }
   ],
   "source": [
    "df.isna().sum()"
   ]
  },
  {
   "cell_type": "code",
   "execution_count": 20,
   "metadata": {},
   "outputs": [],
   "source": [
    "df = df[df['Date']!='SARS']"
   ]
  },
  {
   "cell_type": "code",
   "execution_count": 21,
   "metadata": {},
   "outputs": [
    {
     "data": {
      "text/html": [
       "<div>\n",
       "<style scoped>\n",
       "    .dataframe tbody tr th:only-of-type {\n",
       "        vertical-align: middle;\n",
       "    }\n",
       "\n",
       "    .dataframe tbody tr th {\n",
       "        vertical-align: top;\n",
       "    }\n",
       "\n",
       "    .dataframe thead th {\n",
       "        text-align: right;\n",
       "    }\n",
       "</style>\n",
       "<table border=\"1\" class=\"dataframe\">\n",
       "  <thead>\n",
       "    <tr style=\"text-align: right;\">\n",
       "      <th></th>\n",
       "      <th>Date</th>\n",
       "      <th>Time</th>\n",
       "      <th>Contact</th>\n",
       "      <th>Unnamed: 3</th>\n",
       "    </tr>\n",
       "  </thead>\n",
       "  <tbody>\n",
       "    <tr>\n",
       "      <th>6098</th>\n",
       "      <td>03-05-2021</td>\n",
       "      <td>21:05</td>\n",
       "      <td>Samiksha Shruti Ma'am</td>\n",
       "      <td>Best wishes aman for your future ahead</td>\n",
       "    </tr>\n",
       "    <tr>\n",
       "      <th>6099</th>\n",
       "      <td>03-05-2021</td>\n",
       "      <td>21:05</td>\n",
       "      <td>Samiksha Shruti Ma'am</td>\n",
       "      <td>And thanks for your kind words ??</td>\n",
       "    </tr>\n",
       "    <tr>\n",
       "      <th>6100</th>\n",
       "      <td>03-05-2021</td>\n",
       "      <td>21:06</td>\n",
       "      <td>Midhun Sir HCL</td>\n",
       "      <td>??</td>\n",
       "    </tr>\n",
       "    <tr>\n",
       "      <th>6101</th>\n",
       "      <td>03-05-2021</td>\n",
       "      <td>22:05</td>\n",
       "      <td>Aman 2 Hcl</td>\n",
       "      <td>Thankyou ma'am</td>\n",
       "    </tr>\n",
       "    <tr>\n",
       "      <th>6102</th>\n",
       "      <td>03-05-2021</td>\n",
       "      <td>22:42</td>\n",
       "      <td>Midhun Sir HCL</td>\n",
       "      <td>Yo</td>\n",
       "    </tr>\n",
       "  </tbody>\n",
       "</table>\n",
       "</div>"
      ],
      "text/plain": [
       "            Date     Time                 Contact  \\\n",
       "6098  03-05-2021   21:05    Samiksha Shruti Ma'am   \n",
       "6099  03-05-2021   21:05    Samiksha Shruti Ma'am   \n",
       "6100  03-05-2021   21:06           Midhun Sir HCL   \n",
       "6101  03-05-2021   22:05               Aman 2 Hcl   \n",
       "6102  03-05-2021   22:42           Midhun Sir HCL   \n",
       "\n",
       "                                   Unnamed: 3  \n",
       "6098   Best wishes aman for your future ahead  \n",
       "6099        And thanks for your kind words ??  \n",
       "6100                                       ??  \n",
       "6101                           Thankyou ma'am  \n",
       "6102                                       Yo  "
      ]
     },
     "execution_count": 21,
     "metadata": {},
     "output_type": "execute_result"
    }
   ],
   "source": [
    "df.tail()"
   ]
  },
  {
   "cell_type": "code",
   "execution_count": 22,
   "metadata": {},
   "outputs": [],
   "source": [
    "df.to_csv('Cleaned Whatsapp data.csv')"
   ]
  },
  {
   "cell_type": "code",
   "execution_count": 23,
   "metadata": {},
   "outputs": [],
   "source": [
    "df2 = pd.read_csv('Cleaned Whatsapp data.csv')"
   ]
  },
  {
   "cell_type": "code",
   "execution_count": 24,
   "metadata": {},
   "outputs": [
    {
     "data": {
      "text/html": [
       "<div>\n",
       "<style scoped>\n",
       "    .dataframe tbody tr th:only-of-type {\n",
       "        vertical-align: middle;\n",
       "    }\n",
       "\n",
       "    .dataframe tbody tr th {\n",
       "        vertical-align: top;\n",
       "    }\n",
       "\n",
       "    .dataframe thead th {\n",
       "        text-align: right;\n",
       "    }\n",
       "</style>\n",
       "<table border=\"1\" class=\"dataframe\">\n",
       "  <thead>\n",
       "    <tr style=\"text-align: right;\">\n",
       "      <th></th>\n",
       "      <th>Unnamed: 0</th>\n",
       "      <th>Date</th>\n",
       "      <th>Time</th>\n",
       "      <th>Contact</th>\n",
       "      <th>Unnamed: 3</th>\n",
       "    </tr>\n",
       "  </thead>\n",
       "  <tbody>\n",
       "    <tr>\n",
       "      <th>0</th>\n",
       "      <td>2</td>\n",
       "      <td>11-10-2019</td>\n",
       "      <td>21:17</td>\n",
       "      <td>Shivangi Kaul HCL</td>\n",
       "      <td>????</td>\n",
       "    </tr>\n",
       "    <tr>\n",
       "      <th>1</th>\n",
       "      <td>3</td>\n",
       "      <td>11-10-2019</td>\n",
       "      <td>21:17</td>\n",
       "      <td>Shivangi Kaul HCL</td>\n",
       "      <td>??</td>\n",
       "    </tr>\n",
       "    <tr>\n",
       "      <th>2</th>\n",
       "      <td>4</td>\n",
       "      <td>11-10-2019</td>\n",
       "      <td>21:17</td>\n",
       "      <td>Mona Hcl 2</td>\n",
       "      <td>??</td>\n",
       "    </tr>\n",
       "    <tr>\n",
       "      <th>3</th>\n",
       "      <td>6</td>\n",
       "      <td>11-10-2019</td>\n",
       "      <td>21:17</td>\n",
       "      <td>Midhun Sir HCL</td>\n",
       "      <td>??</td>\n",
       "    </tr>\n",
       "    <tr>\n",
       "      <th>4</th>\n",
       "      <td>7</td>\n",
       "      <td>11-10-2019</td>\n",
       "      <td>21:17</td>\n",
       "      <td>Precila Hcl</td>\n",
       "      <td>??</td>\n",
       "    </tr>\n",
       "  </tbody>\n",
       "</table>\n",
       "</div>"
      ],
      "text/plain": [
       "   Unnamed: 0        Date     Time             Contact Unnamed: 3\n",
       "0           2  11-10-2019   21:17    Shivangi Kaul HCL       ????\n",
       "1           3  11-10-2019   21:17    Shivangi Kaul HCL         ??\n",
       "2           4  11-10-2019   21:17           Mona Hcl 2         ??\n",
       "3           6  11-10-2019   21:17       Midhun Sir HCL         ??\n",
       "4           7  11-10-2019   21:17          Precila Hcl         ??"
      ]
     },
     "execution_count": 24,
     "metadata": {},
     "output_type": "execute_result"
    }
   ],
   "source": [
    "df2.head()"
   ]
  },
  {
   "cell_type": "code",
   "execution_count": 25,
   "metadata": {},
   "outputs": [],
   "source": [
    "df = df2.iloc[: , 1:]"
   ]
  },
  {
   "cell_type": "code",
   "execution_count": 26,
   "metadata": {},
   "outputs": [
    {
     "data": {
      "text/html": [
       "<div>\n",
       "<style scoped>\n",
       "    .dataframe tbody tr th:only-of-type {\n",
       "        vertical-align: middle;\n",
       "    }\n",
       "\n",
       "    .dataframe tbody tr th {\n",
       "        vertical-align: top;\n",
       "    }\n",
       "\n",
       "    .dataframe thead th {\n",
       "        text-align: right;\n",
       "    }\n",
       "</style>\n",
       "<table border=\"1\" class=\"dataframe\">\n",
       "  <thead>\n",
       "    <tr style=\"text-align: right;\">\n",
       "      <th></th>\n",
       "      <th>Date</th>\n",
       "      <th>Time</th>\n",
       "      <th>Contact</th>\n",
       "      <th>Unnamed: 3</th>\n",
       "    </tr>\n",
       "  </thead>\n",
       "  <tbody>\n",
       "    <tr>\n",
       "      <th>0</th>\n",
       "      <td>11-10-2019</td>\n",
       "      <td>21:17</td>\n",
       "      <td>Shivangi Kaul HCL</td>\n",
       "      <td>????</td>\n",
       "    </tr>\n",
       "    <tr>\n",
       "      <th>1</th>\n",
       "      <td>11-10-2019</td>\n",
       "      <td>21:17</td>\n",
       "      <td>Shivangi Kaul HCL</td>\n",
       "      <td>??</td>\n",
       "    </tr>\n",
       "    <tr>\n",
       "      <th>2</th>\n",
       "      <td>11-10-2019</td>\n",
       "      <td>21:17</td>\n",
       "      <td>Mona Hcl 2</td>\n",
       "      <td>??</td>\n",
       "    </tr>\n",
       "    <tr>\n",
       "      <th>3</th>\n",
       "      <td>11-10-2019</td>\n",
       "      <td>21:17</td>\n",
       "      <td>Midhun Sir HCL</td>\n",
       "      <td>??</td>\n",
       "    </tr>\n",
       "    <tr>\n",
       "      <th>4</th>\n",
       "      <td>11-10-2019</td>\n",
       "      <td>21:17</td>\n",
       "      <td>Precila Hcl</td>\n",
       "      <td>??</td>\n",
       "    </tr>\n",
       "  </tbody>\n",
       "</table>\n",
       "</div>"
      ],
      "text/plain": [
       "         Date     Time             Contact Unnamed: 3\n",
       "0  11-10-2019   21:17    Shivangi Kaul HCL       ????\n",
       "1  11-10-2019   21:17    Shivangi Kaul HCL         ??\n",
       "2  11-10-2019   21:17           Mona Hcl 2         ??\n",
       "3  11-10-2019   21:17       Midhun Sir HCL         ??\n",
       "4  11-10-2019   21:17          Precila Hcl         ??"
      ]
     },
     "execution_count": 26,
     "metadata": {},
     "output_type": "execute_result"
    }
   ],
   "source": [
    "df.head()"
   ]
  },
  {
   "cell_type": "code",
   "execution_count": 27,
   "metadata": {},
   "outputs": [
    {
     "data": {
      "text/html": [
       "<div>\n",
       "<style scoped>\n",
       "    .dataframe tbody tr th:only-of-type {\n",
       "        vertical-align: middle;\n",
       "    }\n",
       "\n",
       "    .dataframe tbody tr th {\n",
       "        vertical-align: top;\n",
       "    }\n",
       "\n",
       "    .dataframe thead th {\n",
       "        text-align: right;\n",
       "    }\n",
       "</style>\n",
       "<table border=\"1\" class=\"dataframe\">\n",
       "  <thead>\n",
       "    <tr style=\"text-align: right;\">\n",
       "      <th></th>\n",
       "      <th>Date</th>\n",
       "      <th>Time</th>\n",
       "      <th>Contact</th>\n",
       "      <th>Unnamed: 3</th>\n",
       "    </tr>\n",
       "  </thead>\n",
       "  <tbody>\n",
       "    <tr>\n",
       "      <th>5604</th>\n",
       "      <td>03-05-2021</td>\n",
       "      <td>21:05</td>\n",
       "      <td>Samiksha Shruti Ma'am</td>\n",
       "      <td>Best wishes aman for your future ahead</td>\n",
       "    </tr>\n",
       "    <tr>\n",
       "      <th>5605</th>\n",
       "      <td>03-05-2021</td>\n",
       "      <td>21:05</td>\n",
       "      <td>Samiksha Shruti Ma'am</td>\n",
       "      <td>And thanks for your kind words ??</td>\n",
       "    </tr>\n",
       "    <tr>\n",
       "      <th>5606</th>\n",
       "      <td>03-05-2021</td>\n",
       "      <td>21:06</td>\n",
       "      <td>Midhun Sir HCL</td>\n",
       "      <td>??</td>\n",
       "    </tr>\n",
       "    <tr>\n",
       "      <th>5607</th>\n",
       "      <td>03-05-2021</td>\n",
       "      <td>22:05</td>\n",
       "      <td>Aman 2 Hcl</td>\n",
       "      <td>Thankyou ma'am</td>\n",
       "    </tr>\n",
       "    <tr>\n",
       "      <th>5608</th>\n",
       "      <td>03-05-2021</td>\n",
       "      <td>22:42</td>\n",
       "      <td>Midhun Sir HCL</td>\n",
       "      <td>Yo</td>\n",
       "    </tr>\n",
       "  </tbody>\n",
       "</table>\n",
       "</div>"
      ],
      "text/plain": [
       "            Date     Time                 Contact  \\\n",
       "5604  03-05-2021   21:05    Samiksha Shruti Ma'am   \n",
       "5605  03-05-2021   21:05    Samiksha Shruti Ma'am   \n",
       "5606  03-05-2021   21:06           Midhun Sir HCL   \n",
       "5607  03-05-2021   22:05               Aman 2 Hcl   \n",
       "5608  03-05-2021   22:42           Midhun Sir HCL   \n",
       "\n",
       "                                   Unnamed: 3  \n",
       "5604   Best wishes aman for your future ahead  \n",
       "5605        And thanks for your kind words ??  \n",
       "5606                                       ??  \n",
       "5607                           Thankyou ma'am  \n",
       "5608                                       Yo  "
      ]
     },
     "execution_count": 27,
     "metadata": {},
     "output_type": "execute_result"
    }
   ],
   "source": [
    "df.tail()"
   ]
  },
  {
   "cell_type": "code",
   "execution_count": 28,
   "metadata": {},
   "outputs": [],
   "source": [
    "df.dropna(inplace=True)"
   ]
  },
  {
   "cell_type": "code",
   "execution_count": 29,
   "metadata": {},
   "outputs": [
    {
     "data": {
      "text/plain": [
       "Date          0\n",
       "Time          0\n",
       "Contact       0\n",
       "Unnamed: 3    0\n",
       "dtype: int64"
      ]
     },
     "execution_count": 29,
     "metadata": {},
     "output_type": "execute_result"
    }
   ],
   "source": [
    "df.isna().sum()"
   ]
  },
  {
   "cell_type": "code",
   "execution_count": 30,
   "metadata": {},
   "outputs": [
    {
     "data": {
      "text/plain": [
       "5609"
      ]
     },
     "execution_count": 30,
     "metadata": {},
     "output_type": "execute_result"
    }
   ],
   "source": [
    "len(df)"
   ]
  },
  {
   "cell_type": "code",
   "execution_count": 31,
   "metadata": {},
   "outputs": [],
   "source": [
    "df = df[df['Date']!='Or dial: ?(US) +1 513']"
   ]
  },
  {
   "cell_type": "code",
   "execution_count": 32,
   "metadata": {},
   "outputs": [],
   "source": [
    "df['Date'] = df['Date'].apply(lambda x : pd.to_datetime(x , format = \"%d-%m-%Y\"))"
   ]
  },
  {
   "cell_type": "code",
   "execution_count": 33,
   "metadata": {},
   "outputs": [],
   "source": [
    "df['Time'] = df['Time'].apply(lambda x: x.split()[0])"
   ]
  },
  {
   "cell_type": "code",
   "execution_count": 34,
   "metadata": {},
   "outputs": [],
   "source": [
    "#df['Time'] = df['Time'].apply(lambda x: pd.to_datetime(x , format=\"%H:%M\"))"
   ]
  },
  {
   "cell_type": "code",
   "execution_count": 35,
   "metadata": {},
   "outputs": [
    {
     "data": {
      "text/plain": [
       "str"
      ]
     },
     "execution_count": 35,
     "metadata": {},
     "output_type": "execute_result"
    }
   ],
   "source": [
    "type(df['Time'][1])"
   ]
  },
  {
   "cell_type": "code",
   "execution_count": 36,
   "metadata": {},
   "outputs": [
    {
     "data": {
      "text/html": [
       "<div>\n",
       "<style scoped>\n",
       "    .dataframe tbody tr th:only-of-type {\n",
       "        vertical-align: middle;\n",
       "    }\n",
       "\n",
       "    .dataframe tbody tr th {\n",
       "        vertical-align: top;\n",
       "    }\n",
       "\n",
       "    .dataframe thead th {\n",
       "        text-align: right;\n",
       "    }\n",
       "</style>\n",
       "<table border=\"1\" class=\"dataframe\">\n",
       "  <thead>\n",
       "    <tr style=\"text-align: right;\">\n",
       "      <th></th>\n",
       "      <th>Date</th>\n",
       "      <th>Time</th>\n",
       "      <th>Contact</th>\n",
       "      <th>Unnamed: 3</th>\n",
       "    </tr>\n",
       "  </thead>\n",
       "  <tbody>\n",
       "    <tr>\n",
       "      <th>0</th>\n",
       "      <td>2019-10-11</td>\n",
       "      <td>21:17</td>\n",
       "      <td>Shivangi Kaul HCL</td>\n",
       "      <td>????</td>\n",
       "    </tr>\n",
       "    <tr>\n",
       "      <th>1</th>\n",
       "      <td>2019-10-11</td>\n",
       "      <td>21:17</td>\n",
       "      <td>Shivangi Kaul HCL</td>\n",
       "      <td>??</td>\n",
       "    </tr>\n",
       "    <tr>\n",
       "      <th>2</th>\n",
       "      <td>2019-10-11</td>\n",
       "      <td>21:17</td>\n",
       "      <td>Mona Hcl 2</td>\n",
       "      <td>??</td>\n",
       "    </tr>\n",
       "    <tr>\n",
       "      <th>3</th>\n",
       "      <td>2019-10-11</td>\n",
       "      <td>21:17</td>\n",
       "      <td>Midhun Sir HCL</td>\n",
       "      <td>??</td>\n",
       "    </tr>\n",
       "    <tr>\n",
       "      <th>4</th>\n",
       "      <td>2019-10-11</td>\n",
       "      <td>21:17</td>\n",
       "      <td>Precila Hcl</td>\n",
       "      <td>??</td>\n",
       "    </tr>\n",
       "  </tbody>\n",
       "</table>\n",
       "</div>"
      ],
      "text/plain": [
       "        Date   Time             Contact Unnamed: 3\n",
       "0 2019-10-11  21:17   Shivangi Kaul HCL       ????\n",
       "1 2019-10-11  21:17   Shivangi Kaul HCL         ??\n",
       "2 2019-10-11  21:17          Mona Hcl 2         ??\n",
       "3 2019-10-11  21:17      Midhun Sir HCL         ??\n",
       "4 2019-10-11  21:17         Precila Hcl         ??"
      ]
     },
     "execution_count": 36,
     "metadata": {},
     "output_type": "execute_result"
    }
   ],
   "source": [
    "df.head()"
   ]
  },
  {
   "cell_type": "code",
   "execution_count": 37,
   "metadata": {},
   "outputs": [
    {
     "data": {
      "text/plain": [
       "array([' Shivangi Kaul HCL', ' Mona Hcl 2', ' Midhun Sir HCL',\n",
       "       ' Precila Hcl', \" Samiksha Shruti Ma'am\", ' U', ' Aman 2 Hcl',\n",
       "       ' Jagmohan Hcl', ' +91 89250 99475', ' +91 99625 11766',\n",
       "       ' +91 84396 48067'], dtype=object)"
      ]
     },
     "execution_count": 37,
     "metadata": {},
     "output_type": "execute_result"
    }
   ],
   "source": [
    "df['Contact'].unique()"
   ]
  },
  {
   "cell_type": "code",
   "execution_count": 38,
   "metadata": {},
   "outputs": [
    {
     "data": {
      "text/plain": [
       "<AxesSubplot:xlabel='Contact', ylabel='count'>"
      ]
     },
     "execution_count": 38,
     "metadata": {},
     "output_type": "execute_result"
    },
    {
     "data": {
      "image/png": "[encoded data removed]",
      "text/plain": [
       "<Figure size 1440x720 with 1 Axes>"
      ]
     },
     "metadata": {
      "needs_background": "light"
     },
     "output_type": "display_data"
    }
   ],
   "source": [
    "plt.figure(figsize=(20,10))\n",
    "sns.countplot(x='Contact',data=df )"
   ]
  },
  {
   "cell_type": "markdown",
   "metadata": {},
   "source": [
    "# Above countplot is cumulative for all the years combined"
   ]
  },
  {
   "cell_type": "code",
   "execution_count": 39,
   "metadata": {},
   "outputs": [
    {
     "data": {
      "text/plain": [
       " Midhun Sir HCL           1272\n",
       " U                        1092\n",
       " Aman 2 Hcl                758\n",
       " Mona Hcl 2                616\n",
       " Shivangi Kaul HCL         588\n",
       " Samiksha Shruti Ma'am     511\n",
       " Jagmohan Hcl              367\n",
       " Precila Hcl               176\n",
       " +91 84396 48067           167\n",
       " +91 89250 99475            48\n",
       " +91 99625 11766            13\n",
       "Name: Contact, dtype: int64"
      ]
     },
     "execution_count": 39,
     "metadata": {},
     "output_type": "execute_result"
    }
   ],
   "source": [
    "df['Contact'].value_counts()"
   ]
  },
  {
   "cell_type": "code",
   "execution_count": 40,
   "metadata": {},
   "outputs": [
    {
     "data": {
      "text/plain": [
       "5608"
      ]
     },
     "execution_count": 40,
     "metadata": {},
     "output_type": "execute_result"
    }
   ],
   "source": [
    "len(df)"
   ]
  },
  {
   "cell_type": "code",
   "execution_count": 41,
   "metadata": {},
   "outputs": [],
   "source": [
    "df.columns = ['Date', 'Time', 'Contact', 'Text']"
   ]
  },
  {
   "cell_type": "code",
   "execution_count": 42,
   "metadata": {},
   "outputs": [],
   "source": [
    "df['Length'] = df['Text'].apply(lambda x : len(x))"
   ]
  },
  {
   "cell_type": "code",
   "execution_count": 43,
   "metadata": {},
   "outputs": [
    {
     "data": {
      "text/html": [
       "<div>\n",
       "<style scoped>\n",
       "    .dataframe tbody tr th:only-of-type {\n",
       "        vertical-align: middle;\n",
       "    }\n",
       "\n",
       "    .dataframe tbody tr th {\n",
       "        vertical-align: top;\n",
       "    }\n",
       "\n",
       "    .dataframe thead th {\n",
       "        text-align: right;\n",
       "    }\n",
       "</style>\n",
       "<table border=\"1\" class=\"dataframe\">\n",
       "  <thead>\n",
       "    <tr style=\"text-align: right;\">\n",
       "      <th></th>\n",
       "      <th>Date</th>\n",
       "      <th>Time</th>\n",
       "      <th>Contact</th>\n",
       "      <th>Text</th>\n",
       "      <th>Length</th>\n",
       "    </tr>\n",
       "  </thead>\n",
       "  <tbody>\n",
       "    <tr>\n",
       "      <th>0</th>\n",
       "      <td>2019-10-11</td>\n",
       "      <td>21:17</td>\n",
       "      <td>Shivangi Kaul HCL</td>\n",
       "      <td>????</td>\n",
       "      <td>5</td>\n",
       "    </tr>\n",
       "    <tr>\n",
       "      <th>1</th>\n",
       "      <td>2019-10-11</td>\n",
       "      <td>21:17</td>\n",
       "      <td>Shivangi Kaul HCL</td>\n",
       "      <td>??</td>\n",
       "      <td>3</td>\n",
       "    </tr>\n",
       "    <tr>\n",
       "      <th>2</th>\n",
       "      <td>2019-10-11</td>\n",
       "      <td>21:17</td>\n",
       "      <td>Mona Hcl 2</td>\n",
       "      <td>??</td>\n",
       "      <td>3</td>\n",
       "    </tr>\n",
       "    <tr>\n",
       "      <th>3</th>\n",
       "      <td>2019-10-11</td>\n",
       "      <td>21:17</td>\n",
       "      <td>Midhun Sir HCL</td>\n",
       "      <td>??</td>\n",
       "      <td>3</td>\n",
       "    </tr>\n",
       "    <tr>\n",
       "      <th>4</th>\n",
       "      <td>2019-10-11</td>\n",
       "      <td>21:17</td>\n",
       "      <td>Precila Hcl</td>\n",
       "      <td>??</td>\n",
       "      <td>3</td>\n",
       "    </tr>\n",
       "  </tbody>\n",
       "</table>\n",
       "</div>"
      ],
      "text/plain": [
       "        Date   Time             Contact   Text  Length\n",
       "0 2019-10-11  21:17   Shivangi Kaul HCL   ????       5\n",
       "1 2019-10-11  21:17   Shivangi Kaul HCL     ??       3\n",
       "2 2019-10-11  21:17          Mona Hcl 2     ??       3\n",
       "3 2019-10-11  21:17      Midhun Sir HCL     ??       3\n",
       "4 2019-10-11  21:17         Precila Hcl     ??       3"
      ]
     },
     "execution_count": 43,
     "metadata": {},
     "output_type": "execute_result"
    }
   ],
   "source": [
    "df.head()"
   ]
  },
  {
   "cell_type": "code",
   "execution_count": 44,
   "metadata": {},
   "outputs": [
    {
     "data": {
      "text/plain": [
       "<AxesSubplot:xlabel='Contact', ylabel='Length'>"
      ]
     },
     "execution_count": 44,
     "metadata": {},
     "output_type": "execute_result"
    },
    {
     "data": {
      "image/png": "[encoded data removed]",
      "text/plain": [
       "<Figure size 1440x720 with 1 Axes>"
      ]
     },
     "metadata": {
      "needs_background": "light"
     },
     "output_type": "display_data"
    }
   ],
   "source": [
    "plt.figure(figsize=(20,10))\n",
    "sns.barplot(data=df, x = 'Contact',y='Length' )"
   ]
  },
  {
   "cell_type": "markdown",
   "metadata": {},
   "source": [
    "# Above barplot is cumulative for all the years combined"
   ]
  },
  {
   "cell_type": "code",
   "execution_count": 45,
   "metadata": {},
   "outputs": [
    {
     "data": {
      "text/plain": [
       "<AxesSubplot:xlabel='Contact', ylabel='Length'>"
      ]
     },
     "execution_count": 45,
     "metadata": {},
     "output_type": "execute_result"
    },
    {
     "data": {
      "image/png": "[encoded data removed]",
      "text/plain": [
       "<Figure size 1440x720 with 1 Axes>"
      ]
     },
     "metadata": {
      "needs_background": "light"
     },
     "output_type": "display_data"
    }
   ],
   "source": [
    "plt.figure(figsize=(20,10))\n",
    "sns.boxplot(data=df, x = 'Contact',y='Length' )"
   ]
  },
  {
   "cell_type": "code",
   "execution_count": 46,
   "metadata": {},
   "outputs": [
    {
     "data": {
      "text/html": [
       "<div>\n",
       "<style scoped>\n",
       "    .dataframe tbody tr th:only-of-type {\n",
       "        vertical-align: middle;\n",
       "    }\n",
       "\n",
       "    .dataframe tbody tr th {\n",
       "        vertical-align: top;\n",
       "    }\n",
       "\n",
       "    .dataframe thead th {\n",
       "        text-align: right;\n",
       "    }\n",
       "</style>\n",
       "<table border=\"1\" class=\"dataframe\">\n",
       "  <thead>\n",
       "    <tr style=\"text-align: right;\">\n",
       "      <th></th>\n",
       "      <th>Length</th>\n",
       "    </tr>\n",
       "    <tr>\n",
       "      <th>Contact</th>\n",
       "      <th></th>\n",
       "    </tr>\n",
       "  </thead>\n",
       "  <tbody>\n",
       "    <tr>\n",
       "      <th>Precila Hcl</th>\n",
       "      <td>15.017045</td>\n",
       "    </tr>\n",
       "    <tr>\n",
       "      <th>+91 84396 48067</th>\n",
       "      <td>15.311377</td>\n",
       "    </tr>\n",
       "    <tr>\n",
       "      <th>Shivangi Kaul HCL</th>\n",
       "      <td>16.602041</td>\n",
       "    </tr>\n",
       "    <tr>\n",
       "      <th>Mona Hcl 2</th>\n",
       "      <td>17.738636</td>\n",
       "    </tr>\n",
       "    <tr>\n",
       "      <th>Samiksha Shruti Ma'am</th>\n",
       "      <td>18.671233</td>\n",
       "    </tr>\n",
       "    <tr>\n",
       "      <th>+91 99625 11766</th>\n",
       "      <td>19.615385</td>\n",
       "    </tr>\n",
       "    <tr>\n",
       "      <th>Midhun Sir HCL</th>\n",
       "      <td>19.744497</td>\n",
       "    </tr>\n",
       "    <tr>\n",
       "      <th>Aman 2 Hcl</th>\n",
       "      <td>21.569921</td>\n",
       "    </tr>\n",
       "    <tr>\n",
       "      <th>+91 89250 99475</th>\n",
       "      <td>25.166667</td>\n",
       "    </tr>\n",
       "    <tr>\n",
       "      <th>Jagmohan Hcl</th>\n",
       "      <td>28.468665</td>\n",
       "    </tr>\n",
       "    <tr>\n",
       "      <th>U</th>\n",
       "      <td>30.964286</td>\n",
       "    </tr>\n",
       "  </tbody>\n",
       "</table>\n",
       "</div>"
      ],
      "text/plain": [
       "                           Length\n",
       "Contact                          \n",
       " Precila Hcl            15.017045\n",
       " +91 84396 48067        15.311377\n",
       " Shivangi Kaul HCL      16.602041\n",
       " Mona Hcl 2             17.738636\n",
       " Samiksha Shruti Ma'am  18.671233\n",
       " +91 99625 11766        19.615385\n",
       " Midhun Sir HCL         19.744497\n",
       " Aman 2 Hcl             21.569921\n",
       " +91 89250 99475        25.166667\n",
       " Jagmohan Hcl           28.468665\n",
       " U                      30.964286"
      ]
     },
     "execution_count": 46,
     "metadata": {},
     "output_type": "execute_result"
    }
   ],
   "source": [
    "df.groupby('Contact').mean().sort_values(by='Length')"
   ]
  },
  {
   "cell_type": "code",
   "execution_count": 47,
   "metadata": {},
   "outputs": [
    {
     "data": {
      "text/html": [
       "<div>\n",
       "<style scoped>\n",
       "    .dataframe tbody tr th:only-of-type {\n",
       "        vertical-align: middle;\n",
       "    }\n",
       "\n",
       "    .dataframe tbody tr th {\n",
       "        vertical-align: top;\n",
       "    }\n",
       "\n",
       "    .dataframe thead th {\n",
       "        text-align: right;\n",
       "    }\n",
       "</style>\n",
       "<table border=\"1\" class=\"dataframe\">\n",
       "  <thead>\n",
       "    <tr style=\"text-align: right;\">\n",
       "      <th></th>\n",
       "      <th>Length</th>\n",
       "    </tr>\n",
       "    <tr>\n",
       "      <th>Contact</th>\n",
       "      <th></th>\n",
       "    </tr>\n",
       "  </thead>\n",
       "  <tbody>\n",
       "    <tr>\n",
       "      <th>+91 99625 11766</th>\n",
       "      <td>255</td>\n",
       "    </tr>\n",
       "    <tr>\n",
       "      <th>+91 89250 99475</th>\n",
       "      <td>1208</td>\n",
       "    </tr>\n",
       "    <tr>\n",
       "      <th>+91 84396 48067</th>\n",
       "      <td>2557</td>\n",
       "    </tr>\n",
       "    <tr>\n",
       "      <th>Precila Hcl</th>\n",
       "      <td>2643</td>\n",
       "    </tr>\n",
       "    <tr>\n",
       "      <th>Samiksha Shruti Ma'am</th>\n",
       "      <td>9541</td>\n",
       "    </tr>\n",
       "    <tr>\n",
       "      <th>Shivangi Kaul HCL</th>\n",
       "      <td>9762</td>\n",
       "    </tr>\n",
       "    <tr>\n",
       "      <th>Jagmohan Hcl</th>\n",
       "      <td>10448</td>\n",
       "    </tr>\n",
       "    <tr>\n",
       "      <th>Mona Hcl 2</th>\n",
       "      <td>10927</td>\n",
       "    </tr>\n",
       "    <tr>\n",
       "      <th>Aman 2 Hcl</th>\n",
       "      <td>16350</td>\n",
       "    </tr>\n",
       "    <tr>\n",
       "      <th>Midhun Sir HCL</th>\n",
       "      <td>25115</td>\n",
       "    </tr>\n",
       "    <tr>\n",
       "      <th>U</th>\n",
       "      <td>33813</td>\n",
       "    </tr>\n",
       "  </tbody>\n",
       "</table>\n",
       "</div>"
      ],
      "text/plain": [
       "                        Length\n",
       "Contact                       \n",
       " +91 99625 11766           255\n",
       " +91 89250 99475          1208\n",
       " +91 84396 48067          2557\n",
       " Precila Hcl              2643\n",
       " Samiksha Shruti Ma'am    9541\n",
       " Shivangi Kaul HCL        9762\n",
       " Jagmohan Hcl            10448\n",
       " Mona Hcl 2              10927\n",
       " Aman 2 Hcl              16350\n",
       " Midhun Sir HCL          25115\n",
       " U                       33813"
      ]
     },
     "execution_count": 47,
     "metadata": {},
     "output_type": "execute_result"
    }
   ],
   "source": [
    "df.groupby('Contact').sum().sort_values(by='Length')"
   ]
  },
  {
   "cell_type": "code",
   "execution_count": 48,
   "metadata": {},
   "outputs": [
    {
     "data": {
      "text/plain": [
       "Contact\n",
       " +91 84396 48067           167\n",
       " +91 89250 99475            48\n",
       " +91 99625 11766            13\n",
       " Aman 2 Hcl                758\n",
       " Jagmohan Hcl              367\n",
       " Midhun Sir HCL           1272\n",
       " Mona Hcl 2                616\n",
       " Precila Hcl               176\n",
       " Samiksha Shruti Ma'am     511\n",
       " Shivangi Kaul HCL         588\n",
       " U                        1092\n",
       "Name: Length, dtype: int64"
      ]
     },
     "execution_count": 48,
     "metadata": {},
     "output_type": "execute_result"
    }
   ],
   "source": [
    "df.groupby('Contact').count()['Length']"
   ]
  },
  {
   "cell_type": "code",
   "execution_count": 49,
   "metadata": {},
   "outputs": [
    {
     "data": {
      "text/html": [
       "<div>\n",
       "<style scoped>\n",
       "    .dataframe tbody tr th:only-of-type {\n",
       "        vertical-align: middle;\n",
       "    }\n",
       "\n",
       "    .dataframe tbody tr th {\n",
       "        vertical-align: top;\n",
       "    }\n",
       "\n",
       "    .dataframe thead th {\n",
       "        text-align: right;\n",
       "    }\n",
       "</style>\n",
       "<table border=\"1\" class=\"dataframe\">\n",
       "  <thead>\n",
       "    <tr style=\"text-align: right;\">\n",
       "      <th></th>\n",
       "      <th>Date</th>\n",
       "      <th>Time</th>\n",
       "      <th>Contact</th>\n",
       "      <th>Text</th>\n",
       "      <th>Length</th>\n",
       "    </tr>\n",
       "  </thead>\n",
       "  <tbody>\n",
       "    <tr>\n",
       "      <th>0</th>\n",
       "      <td>2019-10-11</td>\n",
       "      <td>21:17</td>\n",
       "      <td>Shivangi Kaul HCL</td>\n",
       "      <td>????</td>\n",
       "      <td>5</td>\n",
       "    </tr>\n",
       "    <tr>\n",
       "      <th>1</th>\n",
       "      <td>2019-10-11</td>\n",
       "      <td>21:17</td>\n",
       "      <td>Shivangi Kaul HCL</td>\n",
       "      <td>??</td>\n",
       "      <td>3</td>\n",
       "    </tr>\n",
       "    <tr>\n",
       "      <th>2</th>\n",
       "      <td>2019-10-11</td>\n",
       "      <td>21:17</td>\n",
       "      <td>Mona Hcl 2</td>\n",
       "      <td>??</td>\n",
       "      <td>3</td>\n",
       "    </tr>\n",
       "    <tr>\n",
       "      <th>3</th>\n",
       "      <td>2019-10-11</td>\n",
       "      <td>21:17</td>\n",
       "      <td>Midhun Sir HCL</td>\n",
       "      <td>??</td>\n",
       "      <td>3</td>\n",
       "    </tr>\n",
       "    <tr>\n",
       "      <th>4</th>\n",
       "      <td>2019-10-11</td>\n",
       "      <td>21:17</td>\n",
       "      <td>Precila Hcl</td>\n",
       "      <td>??</td>\n",
       "      <td>3</td>\n",
       "    </tr>\n",
       "  </tbody>\n",
       "</table>\n",
       "</div>"
      ],
      "text/plain": [
       "        Date   Time             Contact   Text  Length\n",
       "0 2019-10-11  21:17   Shivangi Kaul HCL   ????       5\n",
       "1 2019-10-11  21:17   Shivangi Kaul HCL     ??       3\n",
       "2 2019-10-11  21:17          Mona Hcl 2     ??       3\n",
       "3 2019-10-11  21:17      Midhun Sir HCL     ??       3\n",
       "4 2019-10-11  21:17         Precila Hcl     ??       3"
      ]
     },
     "execution_count": 49,
     "metadata": {},
     "output_type": "execute_result"
    }
   ],
   "source": [
    "df.head()"
   ]
  },
  {
   "cell_type": "code",
   "execution_count": 50,
   "metadata": {},
   "outputs": [],
   "source": [
    "df.to_csv('Cleaned_Whatsapp_Data2.csv')"
   ]
  },
  {
   "cell_type": "code",
   "execution_count": 51,
   "metadata": {},
   "outputs": [],
   "source": [
    "df['Year'] = df['Date'].apply(lambda x: x.year)"
   ]
  },
  {
   "cell_type": "code",
   "execution_count": 52,
   "metadata": {},
   "outputs": [
    {
     "data": {
      "text/html": [
       "<div>\n",
       "<style scoped>\n",
       "    .dataframe tbody tr th:only-of-type {\n",
       "        vertical-align: middle;\n",
       "    }\n",
       "\n",
       "    .dataframe tbody tr th {\n",
       "        vertical-align: top;\n",
       "    }\n",
       "\n",
       "    .dataframe thead th {\n",
       "        text-align: right;\n",
       "    }\n",
       "</style>\n",
       "<table border=\"1\" class=\"dataframe\">\n",
       "  <thead>\n",
       "    <tr style=\"text-align: right;\">\n",
       "      <th></th>\n",
       "      <th>Date</th>\n",
       "      <th>Time</th>\n",
       "      <th>Contact</th>\n",
       "      <th>Text</th>\n",
       "      <th>Length</th>\n",
       "      <th>Year</th>\n",
       "    </tr>\n",
       "  </thead>\n",
       "  <tbody>\n",
       "    <tr>\n",
       "      <th>0</th>\n",
       "      <td>2019-10-11</td>\n",
       "      <td>21:17</td>\n",
       "      <td>Shivangi Kaul HCL</td>\n",
       "      <td>????</td>\n",
       "      <td>5</td>\n",
       "      <td>2019</td>\n",
       "    </tr>\n",
       "    <tr>\n",
       "      <th>1</th>\n",
       "      <td>2019-10-11</td>\n",
       "      <td>21:17</td>\n",
       "      <td>Shivangi Kaul HCL</td>\n",
       "      <td>??</td>\n",
       "      <td>3</td>\n",
       "      <td>2019</td>\n",
       "    </tr>\n",
       "    <tr>\n",
       "      <th>2</th>\n",
       "      <td>2019-10-11</td>\n",
       "      <td>21:17</td>\n",
       "      <td>Mona Hcl 2</td>\n",
       "      <td>??</td>\n",
       "      <td>3</td>\n",
       "      <td>2019</td>\n",
       "    </tr>\n",
       "    <tr>\n",
       "      <th>3</th>\n",
       "      <td>2019-10-11</td>\n",
       "      <td>21:17</td>\n",
       "      <td>Midhun Sir HCL</td>\n",
       "      <td>??</td>\n",
       "      <td>3</td>\n",
       "      <td>2019</td>\n",
       "    </tr>\n",
       "    <tr>\n",
       "      <th>4</th>\n",
       "      <td>2019-10-11</td>\n",
       "      <td>21:17</td>\n",
       "      <td>Precila Hcl</td>\n",
       "      <td>??</td>\n",
       "      <td>3</td>\n",
       "      <td>2019</td>\n",
       "    </tr>\n",
       "  </tbody>\n",
       "</table>\n",
       "</div>"
      ],
      "text/plain": [
       "        Date   Time             Contact   Text  Length  Year\n",
       "0 2019-10-11  21:17   Shivangi Kaul HCL   ????       5  2019\n",
       "1 2019-10-11  21:17   Shivangi Kaul HCL     ??       3  2019\n",
       "2 2019-10-11  21:17          Mona Hcl 2     ??       3  2019\n",
       "3 2019-10-11  21:17      Midhun Sir HCL     ??       3  2019\n",
       "4 2019-10-11  21:17         Precila Hcl     ??       3  2019"
      ]
     },
     "execution_count": 52,
     "metadata": {},
     "output_type": "execute_result"
    }
   ],
   "source": [
    "df.head()"
   ]
  },
  {
   "cell_type": "code",
   "execution_count": 53,
   "metadata": {},
   "outputs": [],
   "source": [
    "df['Month'] = df['Date'].apply(lambda x: x.month)"
   ]
  },
  {
   "cell_type": "code",
   "execution_count": 54,
   "metadata": {},
   "outputs": [
    {
     "data": {
      "text/plain": [
       "<AxesSubplot:xlabel='Contact', ylabel='Length'>"
      ]
     },
     "execution_count": 54,
     "metadata": {},
     "output_type": "execute_result"
    },
    {
     "data": {
      "image/png": "[encoded data removed]",
      "text/plain": [
       "<Figure size 1440x720 with 1 Axes>"
      ]
     },
     "metadata": {
      "needs_background": "light"
     },
     "output_type": "display_data"
    }
   ],
   "source": [
    "plt.figure(figsize=(20,10))\n",
    "sns.barplot(data=df, x = 'Contact',y='Length', hue='Year' )"
   ]
  },
  {
   "cell_type": "markdown",
   "metadata": {},
   "source": [
    "# Points to note:\n",
    "## 1) Except for Mona, Jaggu, Yashasvi and Me all the other guys the total length of all the characters (in thousands) have reduced.... what could this indicate you ask?? Probably physical seperation (not being in the same city) took a toll on engagement...I guess\n",
    "## 2) Jaggu's total character usage is second only to me...well that's interesting since sent only a handful amount of texts comapred to me and midhun sir...well it seems like the number of character usage in each of his message were high, i.e. he usually doesn't text a lot but when he does, it's most probably gonna be a long one\n",
    "## 3) Woooowww!! Precila almost have no character usage in the 2021??? Daayyuummnnn\n",
    "\n",
    "# BTW exact numbers are mentioned below on yearly basis\n"
   ]
  },
  {
   "cell_type": "code",
   "execution_count": 55,
   "metadata": {},
   "outputs": [
    {
     "data": {
      "text/plain": [
       "<AxesSubplot:xlabel='Contact', ylabel='Count'>"
      ]
     },
     "execution_count": 55,
     "metadata": {},
     "output_type": "execute_result"
    },
    {
     "data": {
      "image/png": "[encoded data removed]",
      "text/plain": [
       "<Figure size 1440x720 with 1 Axes>"
      ]
     },
     "metadata": {
      "needs_background": "light"
     },
     "output_type": "display_data"
    }
   ],
   "source": [
    "plt.figure(figsize=(20,10))\n",
    "sns.histplot(data=df , x='Contact',hue='Year' , palette='plasma' , kde=True)"
   ]
  },
  {
   "cell_type": "code",
   "execution_count": 56,
   "metadata": {},
   "outputs": [
    {
     "data": {
      "text/plain": [
       "Contact\n",
       " Jagmohan Hcl              10\n",
       " Precila Hcl               69\n",
       " Samiksha Shruti Ma'am    128\n",
       " Aman 2 Hcl               136\n",
       " U                        148\n",
       " Midhun Sir HCL           154\n",
       " Shivangi Kaul HCL        170\n",
       " Mona Hcl 2               341\n",
       "Name: Length, dtype: int64"
      ]
     },
     "execution_count": 56,
     "metadata": {},
     "output_type": "execute_result"
    }
   ],
   "source": [
    "df[df['Year']==2019].groupby('Contact').count()['Length'].sort_values()"
   ]
  },
  {
   "cell_type": "markdown",
   "metadata": {},
   "source": [
    "# WOW!! Mona sent the most number of messages...mostly to me I guess....interesting"
   ]
  },
  {
   "cell_type": "code",
   "execution_count": 57,
   "metadata": {},
   "outputs": [
    {
     "data": {
      "text/plain": [
       "Contact\n",
       " +91 99625 11766           13\n",
       " +91 89250 99475           37\n",
       " +91 84396 48067           69\n",
       " Precila Hcl              107\n",
       " Mona Hcl 2               257\n",
       " Samiksha Shruti Ma'am    296\n",
       " Jagmohan Hcl             299\n",
       " Shivangi Kaul HCL        357\n",
       " Aman 2 Hcl               489\n",
       " Midhun Sir HCL           739\n",
       " U                        757\n",
       "Name: Length, dtype: int64"
      ]
     },
     "execution_count": 57,
     "metadata": {},
     "output_type": "execute_result"
    }
   ],
   "source": [
    "df[df['Year']==2020].groupby('Contact').count()['Length'].sort_values()"
   ]
  },
  {
   "cell_type": "markdown",
   "metadata": {},
   "source": [
    "# Me and midhun sir led the way by a huge gap...in terms of number of messages"
   ]
  },
  {
   "cell_type": "code",
   "execution_count": 58,
   "metadata": {},
   "outputs": [
    {
     "data": {
      "text/plain": [
       "Contact\n",
       " +91 89250 99475           11\n",
       " Mona Hcl 2                18\n",
       " Jagmohan Hcl              58\n",
       " Shivangi Kaul HCL         61\n",
       " Samiksha Shruti Ma'am     87\n",
       " +91 84396 48067           98\n",
       " Aman 2 Hcl               133\n",
       " U                        187\n",
       " Midhun Sir HCL           379\n",
       "Name: Length, dtype: int64"
      ]
     },
     "execution_count": 58,
     "metadata": {},
     "output_type": "execute_result"
    }
   ],
   "source": [
    "df[df['Year']==2021].groupby('Contact').count()['Length'].sort_values()"
   ]
  },
  {
   "cell_type": "markdown",
   "metadata": {},
   "source": [
    "# Daaayyyyuummnnnn Sir is way ahead in terms of number of messages"
   ]
  },
  {
   "cell_type": "markdown",
   "metadata": {},
   "source": [
    "# I hope instead of a downward flow trend our trend continous to be postovely correlated, in simpler terms I hope our engagement on this group increases even though all of us are physically distanced !!\n",
    "# Cheers!!"
   ]
  },
  {
   "cell_type": "code",
   "execution_count": 59,
   "metadata": {},
   "outputs": [
    {
     "data": {
      "text/plain": [
       "5608"
      ]
     },
     "execution_count": 59,
     "metadata": {},
     "output_type": "execute_result"
    }
   ],
   "source": [
    "len(df)"
   ]
  },
  {
   "cell_type": "code",
   "execution_count": 60,
   "metadata": {},
   "outputs": [
    {
     "data": {
      "text/plain": [
       "0    19:12\n",
       "dtype: object"
      ]
     },
     "execution_count": 60,
     "metadata": {},
     "output_type": "execute_result"
    }
   ],
   "source": [
    "df[df['Contact']==' Midhun Sir HCL']['Time'].mode()"
   ]
  },
  {
   "cell_type": "code",
   "execution_count": 61,
   "metadata": {},
   "outputs": [
    {
     "name": "stdout",
     "output_type": "stream",
     "text": [
      "Most common time  Shivangi Kaul HCL texts is :0    01:34\n",
      "dtype: object \n",
      "Most common time  Mona Hcl 2 texts is :0    00:54\n",
      "dtype: object \n",
      "Most common time  Midhun Sir HCL texts is :0    19:12\n",
      "dtype: object \n",
      "Most common time  Precila Hcl texts is :0    00:54\n",
      "dtype: object \n",
      "Most common time  Samiksha Shruti Ma'am texts is :0    01:02\n",
      "dtype: object \n",
      "Most common time  U texts is :0    00:19\n",
      "dtype: object \n",
      "Most common time  Aman 2 Hcl texts is :0    01:36\n",
      "dtype: object \n",
      "Most common time  Jagmohan Hcl texts is :0    11:46\n",
      "1    14:08\n",
      "2    22:52\n",
      "dtype: object \n",
      "Most common time  +91 89250 99475 texts is :0    11:12\n",
      "dtype: object \n",
      "Most common time  +91 99625 11766 texts is :0    00:03\n",
      "1    12:51\n",
      "2    23:41\n",
      "dtype: object \n",
      "Most common time  +91 84396 48067 texts is :0    10:13\n",
      "1    10:18\n",
      "2    18:58\n",
      "3    21:21\n",
      "4    22:47\n",
      "dtype: object \n"
     ]
    }
   ],
   "source": [
    "for i in df['Contact'].unique():\n",
    "    print(f\"Most common time {i} texts is :{df[df['Contact']== i]['Time'].mode()} \")\n",
    "    #print(df[df['Contact']== i]['Time'].mode())"
   ]
  },
  {
   "cell_type": "code",
   "execution_count": null,
   "metadata": {},
   "outputs": [],
   "source": []
  }
 ],
 "metadata": {
  "kernelspec": {
   "display_name": "Python 3",
   "language": "python",
   "name": "python3"
  },
  "language_info": {
   "codemirror_mode": {
    "name": "ipython",
    "version": 3
   },
   "file_extension": ".py",
   "mimetype": "text/x-python",
   "name": "python",
   "nbconvert_exporter": "python",
   "pygments_lexer": "ipython3",
   "version": "3.8.5"
  }
 },
 "nbformat": 4,
 "nbformat_minor": 4
}
